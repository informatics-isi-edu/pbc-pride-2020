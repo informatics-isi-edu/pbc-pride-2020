{
 "cells": [
  {
   "cell_type": "code",
   "execution_count": 8,
   "metadata": {
    "collapsed": true,
    "pycharm": {
     "is_executing": false
    }
   },
   "outputs": [],
   "source": [
    "## Connect to a data source \n",
    "import chisel\n",
    "from chisel import Table, Column, Key, ForeignKey\n",
    "catalog = chisel.connect('https://pbcconsortium.isrd.isi.edu/ermrest/catalog/1')\n",
    "\n"
   ]
  },
  {
   "cell_type": "code",
   "execution_count": 9,
   "outputs": [],
   "source": [
    "## Adding New Attributes\n",
    "\n",
    "## File_Type_Term\n",
    "## File_Format \n",
    "table = catalog['Vocab'].tables['File_Type_Term']\n",
    "table.columns['File_Format'] = chisel.Column.define('File_Format', chisel.data_types.text)\n"
   ],
   "metadata": {
    "collapsed": false,
    "pycharm": {
     "name": "#%%\n",
     "is_executing": false
    }
   }
  },
  {
   "cell_type": "code",
   "execution_count": 10,
   "outputs": [
    {
     "data": {
      "text/plain": "<Response [200]>"
     },
     "metadata": {},
     "output_type": "execute_result",
     "execution_count": 10
    }
   ],
   "source": [
    "from deriva.core.ermrest_catalog import ErmrestCatalog\n",
    "from deriva.core import get_credential\n",
    "\n",
    "scheme = \"https\"\n",
    "server = \"pbcconsortium.isrd.isi.edu\"\n",
    "catalog_id = \"1\"\n",
    "credentials = get_credential(server)\n",
    "\n",
    "PbcCatalog = ErmrestCatalog(scheme, server, catalog_id, credentials=credentials)\n",
    "pb=PbcCatalog.getPathBuilder()\n",
    "PbcCatalog.get_authn_session()"
   ],
   "metadata": {
    "collapsed": false,
    "pycharm": {
     "name": "#%%\n",
     "is_executing": false
    }
   }
  },
  {
   "cell_type": "code",
   "execution_count": 11,
   "outputs": [
    {
     "data": {
      "text/plain": "      RID                               RCT                               RMT  \\\n0  1-D7KT  2019-07-23T20:57:44.356564-07:00  2019-07-23T20:57:44.356564-07:00   \n1  1-D7KW  2019-07-23T20:57:44.356564-07:00  2019-07-23T20:57:44.356564-07:00   \n2  1-D7KY  2019-07-23T20:57:44.356564-07:00  2019-07-23T20:57:44.356564-07:00   \n3  1-D7M0  2019-07-23T20:57:44.356564-07:00  2019-07-23T20:57:44.356564-07:00   \n4  1-D7M2  2019-07-23T20:57:44.356564-07:00  2019-07-23T20:57:44.356564-07:00   \n\n                                                 RCB  \\\n0  https://auth.globus.org/aef862ea-d274-11e5-bb0...   \n1  https://auth.globus.org/aef862ea-d274-11e5-bb0...   \n2  https://auth.globus.org/aef862ea-d274-11e5-bb0...   \n3  https://auth.globus.org/aef862ea-d274-11e5-bb0...   \n4  https://auth.globus.org/aef862ea-d274-11e5-bb0...   \n\n                                                 RMB                    ID  \\\n0  https://auth.globus.org/aef862ea-d274-11e5-bb0...  PBCCONSORTIUM:1-9QEP   \n1  https://auth.globus.org/aef862ea-d274-11e5-bb0...  PBCCONSORTIUM:1-A4V4   \n2  https://auth.globus.org/aef862ea-d274-11e5-bb0...  PBCCONSORTIUM:1-A4WJ   \n3  https://auth.globus.org/aef862ea-d274-11e5-bb0...  PBCCONSORTIUM:1-A51R   \n4  https://auth.globus.org/aef862ea-d274-11e5-bb0...  PBCCONSORTIUM:1-ATDT   \n\n          URI          Name  \\\n0  /id/1-9QEP           MRC   \n1  /id/1-A4V4  3D TIF stack   \n2  /id/1-A4WJ  label fields   \n3  /id/1-A51R          JSON   \n4  /id/1-ATDT           CSV   \n\n                                         Description Synonyms File_Format  \n0  MRC is a file format that has become industry ...     None        None  \n1               3D TIF for autosegmentation pipeline     None        None  \n2         txt file with label field order indicated      None        None  \n3  Label fields relating a Segmentation's pixel v...     None        None  \n4  Cell Volume, Nucleus volume, Total vesicle vol...     None        None  ",
      "text/html": "<div>\n<style scoped>\n    .dataframe tbody tr th:only-of-type {\n        vertical-align: middle;\n    }\n\n    .dataframe tbody tr th {\n        vertical-align: top;\n    }\n\n    .dataframe thead th {\n        text-align: right;\n    }\n</style>\n<table border=\"1\" class=\"dataframe\">\n  <thead>\n    <tr style=\"text-align: right;\">\n      <th></th>\n      <th>RID</th>\n      <th>RCT</th>\n      <th>RMT</th>\n      <th>RCB</th>\n      <th>RMB</th>\n      <th>ID</th>\n      <th>URI</th>\n      <th>Name</th>\n      <th>Description</th>\n      <th>Synonyms</th>\n      <th>File_Format</th>\n    </tr>\n  </thead>\n  <tbody>\n    <tr>\n      <td>0</td>\n      <td>1-D7KT</td>\n      <td>2019-07-23T20:57:44.356564-07:00</td>\n      <td>2019-07-23T20:57:44.356564-07:00</td>\n      <td>https://auth.globus.org/aef862ea-d274-11e5-bb0...</td>\n      <td>https://auth.globus.org/aef862ea-d274-11e5-bb0...</td>\n      <td>PBCCONSORTIUM:1-9QEP</td>\n      <td>/id/1-9QEP</td>\n      <td>MRC</td>\n      <td>MRC is a file format that has become industry ...</td>\n      <td>None</td>\n      <td>None</td>\n    </tr>\n    <tr>\n      <td>1</td>\n      <td>1-D7KW</td>\n      <td>2019-07-23T20:57:44.356564-07:00</td>\n      <td>2019-07-23T20:57:44.356564-07:00</td>\n      <td>https://auth.globus.org/aef862ea-d274-11e5-bb0...</td>\n      <td>https://auth.globus.org/aef862ea-d274-11e5-bb0...</td>\n      <td>PBCCONSORTIUM:1-A4V4</td>\n      <td>/id/1-A4V4</td>\n      <td>3D TIF stack</td>\n      <td>3D TIF for autosegmentation pipeline</td>\n      <td>None</td>\n      <td>None</td>\n    </tr>\n    <tr>\n      <td>2</td>\n      <td>1-D7KY</td>\n      <td>2019-07-23T20:57:44.356564-07:00</td>\n      <td>2019-07-23T20:57:44.356564-07:00</td>\n      <td>https://auth.globus.org/aef862ea-d274-11e5-bb0...</td>\n      <td>https://auth.globus.org/aef862ea-d274-11e5-bb0...</td>\n      <td>PBCCONSORTIUM:1-A4WJ</td>\n      <td>/id/1-A4WJ</td>\n      <td>label fields</td>\n      <td>txt file with label field order indicated</td>\n      <td>None</td>\n      <td>None</td>\n    </tr>\n    <tr>\n      <td>3</td>\n      <td>1-D7M0</td>\n      <td>2019-07-23T20:57:44.356564-07:00</td>\n      <td>2019-07-23T20:57:44.356564-07:00</td>\n      <td>https://auth.globus.org/aef862ea-d274-11e5-bb0...</td>\n      <td>https://auth.globus.org/aef862ea-d274-11e5-bb0...</td>\n      <td>PBCCONSORTIUM:1-A51R</td>\n      <td>/id/1-A51R</td>\n      <td>JSON</td>\n      <td>Label fields relating a Segmentation's pixel v...</td>\n      <td>None</td>\n      <td>None</td>\n    </tr>\n    <tr>\n      <td>4</td>\n      <td>1-D7M2</td>\n      <td>2019-07-23T20:57:44.356564-07:00</td>\n      <td>2019-07-23T20:57:44.356564-07:00</td>\n      <td>https://auth.globus.org/aef862ea-d274-11e5-bb0...</td>\n      <td>https://auth.globus.org/aef862ea-d274-11e5-bb0...</td>\n      <td>PBCCONSORTIUM:1-ATDT</td>\n      <td>/id/1-ATDT</td>\n      <td>CSV</td>\n      <td>Cell Volume, Nucleus volume, Total vesicle vol...</td>\n      <td>None</td>\n      <td>None</td>\n    </tr>\n  </tbody>\n</table>\n</div>"
     },
     "metadata": {},
     "output_type": "execute_result",
     "execution_count": 11
    }
   ],
   "source": [
    "File_Type_Term = pb.Vocab.File_Type_Term\n",
    "path = File_Type_Term.path\n",
    "path.entities().fetch().dataframe"
   ],
   "metadata": {
    "collapsed": false,
    "pycharm": {
     "name": "#%%\n",
     "is_executing": false
    }
   }
  },
  {
   "cell_type": "code",
   "execution_count": 12,
   "outputs": [],
   "source": [
    "## Adding Terms to File_Type_Term\n",
    "\n",
    "## result\n",
    "new_entity = {\n",
    "    'Name': 'result',\n",
    "    'Description': 'Result files in either in the formats mzIdentML version 1.1 or in PRIDE XML 2.1. In the case of mzIdentML 1.1, files PEAK will also be mandatory. These PEAK files should be the ones directly used in the search.',\n",
    "    'File_Format': 'mzIdentML version 1.1 or PRIDE XML 2.1'\n",
    "}\n",
    "entities = File_Type_Term.insert([new_entity], defaults={'RID', 'RCT','RMT','ID','URI'})\n",
    "\n",
    "## raw\n",
    "new_entity = {\n",
    "    'Name': 'raw',\n",
    "    'Description': 'mass spectrometer output files. Binary files, mzML, mzXML and mzData files are allowed. Peak lists files are not allowed, they are represented with a separate type (PEAK).',\n",
    "    'File_Format': 'Binary files, mzML, mzXML and mzData'\n",
    "}\n",
    "entities = File_Type_Term.insert([new_entity], defaults={'RID', 'RCT','RMT','ID','URI'})\n",
    "\n",
    "## peak\n",
    "new_entity = {\n",
    "    'Name': 'peak',\n",
    "    'Description': 'Processed peak list file, such as MGF, dta, ms2 and pkl. They could also be heavily processed mzML, mzXML or mzData files. They are optional unless a COMPLETE submission using mzIdentML files are used.',\n",
    "    'File_Format': 'MGF, dta, ms2, pkl, mzML, mzXML or mzData'\n",
    "}\n",
    "entities = File_Type_Term.insert([new_entity], defaults={'RID', 'RCT','RMT','ID','URI'})\n",
    "\n",
    "## search\n",
    "new_entity = {\n",
    "    'Name': 'search',\n",
    "    'Description': 'Search engine output files, such as Mascot DAT or other output files (from analysis pipelines, such as pep.xml or prot.xml).',\n",
    "    'File_Format': 'Mascot DAT or other output files'\n",
    "}\n",
    "entities = File_Type_Term.insert([new_entity], defaults={'RID', 'RCT','RMT','ID','URI'})\n",
    "\n",
    "## quant\n",
    "new_entity = {\n",
    "    'Name': 'quant',\n",
    "    'Description': 'Quantification analysis output files, commonly these are the files produced by quantification software, such as MaxQuant.',\n",
    "    'File_Format': 'MaxQuant or other files produced by quantification software'\n",
    "}\n",
    "entities = File_Type_Term.insert([new_entity], defaults={'RID', 'RCT','RMT','ID','URI'})\n",
    "\n",
    "## gel\n",
    "new_entity = {\n",
    "    'Name': 'gel',\n",
    "    'Description': 'Gel image files, commonly these image files are in some kind of image format such as TIF, JPG, PNG, GIF and etc',\n",
    "    'File_Format': 'TIF, JPG, PNG, GIF and etc'\n",
    "}\n",
    "entities = File_Type_Term.insert([new_entity], defaults={'RID', 'RCT','RMT','ID','URI'})\n",
    "\n",
    "## fasta\n",
    "new_entity = {\n",
    "    'Name': 'fasta',\n",
    "    'Description': 'Sequence database file that contains protein sequences used by the search engine'\n",
    "}\n",
    "entities = File_Type_Term.insert([new_entity], defaults={'RID', 'RCT','RMT','ID','URI'})\n",
    "\n",
    "## spectrum_library\n",
    "new_entity = {\n",
    "    'Name': 'spectrum_library',\n",
    "    'Description': 'Spectrum library used during the analysis'\n",
    "}\n",
    "entities = File_Type_Term.insert([new_entity], defaults={'RID', 'RCT','RMT','ID','URI'})\n",
    "\n",
    "## ms_image_data\n",
    "new_entity = {\n",
    "    'Name': 'ms_image_data',\n",
    "    'Description': 'Mass spec imaging data, such as: imzML or hdr files',\n",
    "    'File_Format': 'imzML or hdr'\n",
    "}\n",
    "entities = File_Type_Term.insert([new_entity], defaults={'RID', 'RCT','RMT','ID','URI'})\n",
    "\n",
    "## optical_image\n",
    "new_entity = {\n",
    "    'Name': 'optical_image',\n",
    "    'Description': 'Optical image'\n",
    "}\n",
    "entities = File_Type_Term.insert([new_entity], defaults={'RID', 'RCT','RMT','ID','URI'})\n",
    "\n",
    "## other\n",
    "new_entity = {\n",
    "    'Name': 'other',\n",
    "    'Description': 'Any other files that may be important for the submission, such as scripts, etc'\n",
    "}\n",
    "entities = File_Type_Term.insert([new_entity], defaults={'RID', 'RCT','RMT','ID','URI'})"
   ],
   "metadata": {
    "collapsed": false,
    "pycharm": {
     "name": "#%%\n",
     "is_executing": false
    }
   }
  },
  {
   "cell_type": "code",
   "execution_count": 13,
   "outputs": [
    {
     "data": {
      "text/plain": "Empty DataFrame\nColumns: []\nIndex: []",
      "text/html": "<div>\n<style scoped>\n    .dataframe tbody tr th:only-of-type {\n        vertical-align: middle;\n    }\n\n    .dataframe tbody tr th {\n        vertical-align: top;\n    }\n\n    .dataframe thead th {\n        text-align: right;\n    }\n</style>\n<table border=\"1\" class=\"dataframe\">\n  <thead>\n    <tr style=\"text-align: right;\">\n      <th></th>\n    </tr>\n  </thead>\n  <tbody>\n  </tbody>\n</table>\n</div>"
     },
     "metadata": {},
     "output_type": "execute_result",
     "execution_count": 13
    }
   ],
   "source": [
    "Submission_Type_Term = pb.Vocab.Submission_Type_Term\n",
    "path = Submission_Type_Term.path\n",
    "path.entities().fetch().dataframe"
   ],
   "metadata": {
    "collapsed": false,
    "pycharm": {
     "name": "#%%\n",
     "is_executing": false
    }
   }
  },
  {
   "cell_type": "code",
   "execution_count": 14,
   "outputs": [],
   "source": [
    "## Adding Terms to Submission_Type_Term\n",
    "\n",
    "## COMPLETE\n",
    "new_entity = {\n",
    "    'Name': 'COMPLETE',\n",
    "    'Description': 'You must provide RAW files and RESULT files as either PRIDE XML or mzIdentML 1.1 format (plus the corresponding spectra in XML-based or peak list format).'\n",
    "}\n",
    "entities = Submission_Type_Term.insert([new_entity], defaults={'RID', 'RCT','RMT','ID','URI'})\n",
    "\n",
    "## PARTIAL\n",
    "new_entity = {\n",
    "    'Name': 'PARTIAL',\n",
    "    'Description': 'You must provide RAW files and the corresponding search engine files (e.g. search engine output files, SEARCH files).'\n",
    "}\n",
    "entities = Submission_Type_Term.insert([new_entity], defaults={'RID', 'RCT','RMT','ID','URI'})"
   ],
   "metadata": {
    "collapsed": false,
    "pycharm": {
     "name": "#%%\n",
     "is_executing": false
    }
   }
  }
 ],
 "metadata": {
  "kernelspec": {
   "display_name": "Python 3",
   "language": "python",
   "name": "python3"
  },
  "language_info": {
   "codemirror_mode": {
    "name": "ipython",
    "version": 2
   },
   "file_extension": ".py",
   "mimetype": "text/x-python",
   "name": "python",
   "nbconvert_exporter": "python",
   "pygments_lexer": "ipython2",
   "version": "2.7.6"
  },
  "pycharm": {
   "stem_cell": {
    "cell_type": "raw",
    "source": [],
    "metadata": {
     "collapsed": false
    }
   }
  }
 },
 "nbformat": 4,
 "nbformat_minor": 0
}