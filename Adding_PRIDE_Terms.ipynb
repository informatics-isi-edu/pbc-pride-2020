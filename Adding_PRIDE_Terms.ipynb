{
 "cells": [
  {
   "cell_type": "code",
   "execution_count": 5,
   "metadata": {
    "collapsed": true,
    "pycharm": {
     "is_executing": false
    }
   },
   "outputs": [
    {
     "data": {
      "text/plain": "<Response [200]>"
     },
     "metadata": {},
     "output_type": "execute_result",
     "execution_count": 5
    }
   ],
   "source": [
    "from deriva.core.ermrest_catalog import ErmrestCatalog\n",
    "from deriva.core import get_credential\n",
    "\n",
    "scheme = \"https\"\n",
    "server = \"pbcconsortium.isrd.isi.edu\"\n",
    "catalog_id = \"1\"\n",
    "credentials = get_credential(server)\n",
    "\n",
    "PbcCatalog = ErmrestCatalog(scheme, server, catalog_id, credentials=credentials)\n",
    "pb=PbcCatalog.getPathBuilder()\n",
    "PbcCatalog.get_authn_session()\n"
   ]
  },
  {
   "cell_type": "code",
   "execution_count": 6,
   "outputs": [],
   "source": [
    "## Adding Terms to Experiment_Type_Term\n",
    "Experiment_Type_Term = pb.Vocab.Experiment_Type_Term\n",
    "path = Experiment_Type_Term.path\n",
    "path.entities().fetch().dataframe\n",
    "## Inserting entities to a table in the PbcCatalog from a csv file\n",
    "import csv\n",
    "input_file = csv.DictReader(open(\"Experiment_Type.csv\"))\n",
    "for row in input_file:\n",
    "    entities = Experiment_Type_Term.insert([row], defaults={'RID','RCT','RMT'})"
   ],
   "metadata": {
    "collapsed": false,
    "pycharm": {
     "name": "#%%\n",
     "is_executing": false
    }
   }
  },
  {
   "cell_type": "code",
   "execution_count": 7,
   "outputs": [],
   "source": [
    "## Adding Terms to Modification_Term\n",
    "Modification_Term = pb.Vocab.Modification_Term\n",
    "path = Modification_Term.path\n",
    "path.entities().fetch().dataframe\n",
    "## Inserting entities to a table in the PbcCatalog from a csv file\n",
    "import csv\n",
    "input_file = csv.DictReader(open(\"Modification_Term.csv\"))\n",
    "for row in input_file:\n",
    "    entities = Modification_Term.insert([row], defaults={'RID','RCT','RMT'})\n"
   ],
   "metadata": {
    "collapsed": false,
    "pycharm": {
     "name": "#%%\n",
     "is_executing": false
    }
   }
  },
  {
   "cell_type": "code",
   "execution_count": 8,
   "outputs": [],
   "source": [
    "## Adding Terms to Quantification_Term\n",
    "Quantification_Term = pb.Vocab.Quantification_Term\n",
    "path = Quantification_Term.path\n",
    "path.entities().fetch().dataframe\n",
    "## Inserting entities to a table in the PbcCatalog from a csv file\n",
    "import csv\n",
    "input_file = csv.DictReader(open(\"Quantification_Term.csv\"))\n",
    "for row in input_file:\n",
    "    entities = Quantification_Term.insert([row], defaults={'RID','RCT','RMT'})"
   ],
   "metadata": {
    "collapsed": false,
    "pycharm": {
     "name": "#%%\n",
     "is_executing": false
    }
   }
  },
  {
   "cell_type": "code",
   "execution_count": 9,
   "outputs": [],
   "source": [
    "## Adding Terms to Tissue_Term\n",
    "Tissue_Term = pb.Vocab.Tissue_Term\n",
    "path = Tissue_Term.path\n",
    "path.entities().fetch().dataframe\n",
    "## Inserting entities to a table in the PbcCatalog from a csv file\n",
    "import csv\n",
    "input_file = csv.DictReader(open(\"Tissue_Term.csv\"))\n",
    "for row in input_file:\n",
    "    entities = Tissue_Term.insert([row], defaults={'RID','RCT','RMT'})\n"
   ],
   "metadata": {
    "collapsed": false,
    "pycharm": {
     "name": "#%%\n",
     "is_executing": false
    }
   }
  },
  {
   "cell_type": "code",
   "execution_count": 10,
   "outputs": [],
   "source": [
    "## deleting an entities\n",
    "path = Experiment_Type_Term.filter(Experiment_Type_Term.ID == 'PRIDE:0000461')\n",
    "path.delete()\n",
    "\n"
   ],
   "metadata": {
    "collapsed": false,
    "pycharm": {
     "name": "#%%\n",
     "is_executing": false
    }
   }
  }
 ],
 "metadata": {
  "kernelspec": {
   "display_name": "Python 3",
   "language": "python",
   "name": "python3"
  },
  "language_info": {
   "codemirror_mode": {
    "name": "ipython",
    "version": 2
   },
   "file_extension": ".py",
   "mimetype": "text/x-python",
   "name": "python",
   "nbconvert_exporter": "python",
   "pygments_lexer": "ipython2",
   "version": "2.7.6"
  },
  "pycharm": {
   "stem_cell": {
    "cell_type": "raw",
    "source": [],
    "metadata": {
     "collapsed": false
    }
   }
  }
 },
 "nbformat": 4,
 "nbformat_minor": 0
}