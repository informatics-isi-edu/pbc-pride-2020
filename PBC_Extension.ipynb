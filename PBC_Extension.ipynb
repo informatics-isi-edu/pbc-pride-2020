{
 "cells": [
  {
   "cell_type": "code",
   "execution_count": 1,
   "metadata": {
    "collapsed": true,
    "pycharm": {
     "is_executing": false
    }
   },
   "outputs": [],
   "source": [
    "## Creating Vocab Tables Using deriva-py library\n",
    "from deriva.core import get_credential,ErmrestCatalog\n",
    "import deriva.core.ermrest_model as em\n",
    "from deriva.core.ermrest_model import builtin_types as typ\n",
    "\n",
    "scheme = \"https\"\n",
    "server = \"pbcconsortium.isrd.isi.edu\"\n",
    "catalog_id = \"1\"\n",
    "credentials = get_credential(server)\n",
    "\n",
    "PbcCatalog = ErmrestCatalog(scheme, server, catalog_id, credentials=credentials)\n",
    "model_root = PbcCatalog.getCatalogModel()"
   ]
  },
  {
   "cell_type": "code",
   "execution_count": 2,
   "metadata": {
    "pycharm": {
     "is_executing": false,
     "name": "#%%\n"
    }
   },
   "outputs": [],
   "source": [
    "## classmethoddefine_vocabulary(tname, curie_template, uri_template='/id/{RID}', column_defs=[], key_defs=[], fkey_defs=[], comment=None, acls={}, acl_bindings={}, annotations={}, provide_system=True)\n",
    "\n",
    "## Tissue_Term\n",
    "table_def = em.Table.define_vocabulary(\n",
    "  tname= 'Tissue_Term' ,curie_template= 'PBCCONSORTIUM:{RID}'\n",
    ")\n",
    "schema = model_root.schemas['Vocab']\n",
    "new_table = schema.create_table(PbcCatalog, table_def)"
   ]
  },
  {
   "cell_type": "code",
   "execution_count": 3,
   "metadata": {
    "pycharm": {
     "is_executing": false,
     "name": "#%%\n"
    }
   },
   "outputs": [],
   "source": [
    "## Disease_Term\n",
    "table_def = em.Table.define_vocabulary(\n",
    "  tname= 'Disease_Term' ,curie_template= 'PBCCONSORTIUM:{RID}'\n",
    ")\n",
    "schema = model_root.schemas['Vocab']\n",
    "new_table = schema.create_table(PbcCatalog, table_def)"
   ]
  },
  {
   "cell_type": "code",
   "execution_count": 4,
   "metadata": {
    "pycharm": {
     "is_executing": false,
     "name": "#%%\n"
    }
   },
   "outputs": [],
   "source": [
    "## Quantification_Term\n",
    "table_def = em.Table.define_vocabulary(\n",
    "  tname= 'Quantification_Term' ,curie_template= 'PBCCONSORTIUM:{RID}'\n",
    ")\n",
    "schema = model_root.schemas['Vocab']\n",
    "new_table = schema.create_table(PbcCatalog, table_def)\n"
   ]
  },
  {
   "cell_type": "code",
   "execution_count": 5,
   "metadata": {
    "pycharm": {
     "is_executing": false,
     "name": "#%%\n"
    }
   },
   "outputs": [],
   "source": [
    "## Instrument_Term\n",
    "table_def = em.Table.define_vocabulary(\n",
    "  tname= 'Instrument_Term' ,curie_template= 'PBCCONSORTIUM:{RID}'\n",
    ")\n",
    "schema = model_root.schemas['Vocab']\n",
    "new_table = schema.create_table(PbcCatalog, table_def)"
   ]
  },
  {
   "cell_type": "code",
   "execution_count": 6,
   "metadata": {
    "pycharm": {
     "is_executing": false,
     "name": "#%%\n"
    }
   },
   "outputs": [],
   "source": [
    "## Modification_Term\n",
    "table_def = em.Table.define_vocabulary(\n",
    "  tname= 'Modification_Term' ,curie_template= 'PBCCONSORTIUM:{RID}'\n",
    ")\n",
    "schema = model_root.schemas['Vocab']\n",
    "new_table = schema.create_table(PbcCatalog, table_def)"
   ]
  },
  {
   "cell_type": "code",
   "execution_count": 7,
   "metadata": {
    "pycharm": {
     "is_executing": false,
     "name": "#%%\n"
    }
   },
   "outputs": [],
   "source": [
    "## Submission_Type_Term\n",
    "table_def = em.Table.define_vocabulary(\n",
    "  tname= 'Submission_Type_Term' ,curie_template= 'PBCCONSORTIUM:{RID}'\n",
    ")\n",
    "schema = model_root.schemas['Vocab']\n",
    "new_table = schema.create_table(PbcCatalog, table_def)"
   ]
  },
  {
   "cell_type": "code",
   "execution_count": 8,
   "metadata": {
    "pycharm": {
     "is_executing": false,
     "name": "#%%\n"
    }
   },
   "outputs": [],
   "source": [
    "## Pride_Additional_Term\n",
    "table_def = em.Table.define_vocabulary(\n",
    "  tname= 'Pride_Additional_Term' ,curie_template= 'PBCCONSORTIUM:{RID}'\n",
    ")\n",
    "schema = model_root.schemas['Vocab']\n",
    "new_table = schema.create_table(PbcCatalog, table_def)"
   ]
  },
  {
   "cell_type": "code",
   "execution_count": 9,
   "metadata": {
    "pycharm": {
     "is_executing": false,
     "name": "#%%\n"
    }
   },
   "outputs": [],
   "source": [
    "## Creating Pride_Project table\n",
    "column_defs = [ \n",
    "  em.Column.define('Project_Title', typ.text), \n",
    "  em.Column.define('Project_Description', typ.text),\n",
    "  em.Column.define('Submission_Type', typ.text),\n",
    "  em.Column.define('Reason_For_Partial', typ.text),\n",
    "  em.Column.define('Submitter', typ.text),\n",
    "]\n",
    "fkey_def = [\n",
    "    em.ForeignKey.define(\n",
    "        ['Submitter'],\n",
    "        'isa',\n",
    "        'person',\n",
    "        ['RID'], # this is a list to allow for compound keys\n",
    "        on_update='CASCADE',\n",
    "        on_delete='SET NULL',\n",
    "        constraint_names=[ ['Beta_Cell','Pride_Project_Submitter_FKey'] ],\n",
    "        comment=None,\n",
    "        acls={},\n",
    "        acl_bindings={},\n",
    "        annotations={},\n",
    "    )\n",
    "]\n",
    "table_def = em.Table.define(\n",
    "  \"Pride_Project\",\n",
    "  column_defs,\n",
    "  key_defs=[],\n",
    "  fkey_defs=fkey_def,\n",
    "  comment=None,\n",
    "  acls={},\n",
    "  acl_bindings={},\n",
    "  annotations={},\n",
    "  provide_system=True,\n",
    ")\n",
    "schema = model_root.schemas['Beta_Cell']\n",
    "new_table = schema.create_table(PbcCatalog, table_def)\n"
   ]
  },
  {
   "cell_type": "code",
   "execution_count": 10,
   "metadata": {
    "pycharm": {
     "is_executing": false,
     "name": "#%%\n"
    }
   },
   "outputs": [],
   "source": [
    "## Using chisel for other operations\n",
    "\n",
    "## Connect to a data source \n",
    "import chisel\n",
    "from chisel import Table, Column, Key, ForeignKey\n",
    "catalog = chisel.connect('https://pbcconsortium.isrd.isi.edu/ermrest/catalog/1')"
   ]
  },
  {
   "cell_type": "code",
   "execution_count": 11,
   "metadata": {
    "pycharm": {
     "is_executing": false,
     "name": "#%%\n"
    }
   },
   "outputs": [],
   "source": [
    "## Creating new tables\n",
    "\n",
    "## Pride_Project_Mass_Spec_Data (Associate table)\n",
    "Pride_Project = catalog['Beta_Cell'].tables['Pride_Project']\n",
    "Mass_Spec_Data = catalog['Beta_Cell'].tables['Mass_Spec_Data']\n",
    "Pride_Project.associate(Mass_Spec_Data)\n"
   ]
  },
  {
   "cell_type": "code",
   "execution_count": 12,
   "metadata": {
    "pycharm": {
     "is_executing": false,
     "name": "#%%\n"
    }
   },
   "outputs": [],
   "source": [
    "## Adding New Attributes\n",
    "\n",
    "## Mass_Spec_Data Table\n",
    "## File_Mapping \n",
    "table = catalog['Beta_Cell'].tables['Mass_Spec_Data']\n",
    "table.columns['File_Mapping'] = chisel.Column.define('File_Mapping', chisel.data_types.text)\n",
    "## Resubmission_px\n",
    "table = catalog['Beta_Cell'].tables['Mass_Spec_Data']\n",
    "table.columns['Resubmission_px'] = chisel.Column.define('Resubmission_px', chisel.data_types.text)\n",
    "## File_Id\n",
    "table = catalog['Beta_Cell'].tables['Mass_Spec_Data']\n",
    "del table.columns['File_Id']"
   ]
  },
  {
   "cell_type": "code",
   "execution_count": 13,
   "metadata": {
    "pycharm": {
     "is_executing": false,
     "name": "#%%\n"
    }
   },
   "outputs": [],
   "source": [
    "## Experiment Table\n",
    "## Experimental_Factor \n",
    "table = catalog['Beta_Cell'].tables['Experiment']\n",
    "table.columns['Experimental_Factor'] = chisel.Column.define('Experimental_Factor', chisel.data_types.text)\n",
    "## Reanalysis_Px \n",
    "table = catalog['Beta_Cell'].tables['Experiment']\n",
    "table.columns['Reanalysis_Px'] = chisel.Column.define('Reanalysis_Px', chisel.data_types.text)\n",
    "## Quantification \n",
    "table = catalog['Beta_Cell'].tables['Experiment']\n",
    "table.columns['Quantification'] = chisel.Column.define('Quantification', chisel.data_types.text)\n",
    "## Modification \n",
    "table = catalog['Beta_Cell'].tables['Experiment']\n",
    "table.columns['Modification'] = chisel.Column.define('Modification', chisel.data_types.text)\n",
    "## Instrument \n",
    "table = catalog['Beta_Cell'].tables['Experiment']\n",
    "table.columns['Instrument'] = chisel.Column.define('Instrument', chisel.data_types.text)"
   ]
  },
  {
   "cell_type": "code",
   "execution_count": 14,
   "metadata": {
    "pycharm": {
     "is_executing": false,
     "name": "#%%\n"
    }
   },
   "outputs": [],
   "source": [
    "## Biosample Table\n",
    "## Sample_Processing_Protocol \n",
    "table = catalog['Beta_Cell'].tables['Biosample']\n",
    "table.columns['Sample_Processing_Protocol'] = chisel.Column.define('Sample_Processing_Protocol', chisel.data_types.text)\n",
    "## Data_Processing_Protocol \n",
    "table = catalog['Beta_Cell'].tables['Biosample']\n",
    "table.columns['Data_Processing_Protocol'] = chisel.Column.define('Data_Processing_Protocol', chisel.data_types.text)"
   ]
  },
  {
   "cell_type": "code",
   "execution_count": 15,
   "metadata": {
    "pycharm": {
     "is_executing": false,
     "name": "#%%\n"
    }
   },
   "outputs": [],
   "source": [
    "## project\n",
    "## Tag \n",
    "table = catalog['isa'].tables['project']\n",
    "table.columns['Tag'] = chisel.Column.define('Tag', chisel.data_types.text)\n",
    "## Other_Omics_Link \n",
    "table = catalog['isa'].tables['project']\n",
    "table.columns['Other_Omics_Link'] = chisel.Column.define('Other_Omics_Link', chisel.data_types.text)\n",
    "## Pubmed_Id \n",
    "table = catalog['isa'].tables['project']\n",
    "table.columns['Pubmed_Id'] = chisel.Column.define('Pubmed_Id', chisel.data_types.text)"
   ]
  },
  {
   "cell_type": "code",
   "execution_count": 16,
   "metadata": {
    "pycharm": {
     "is_executing": false,
     "name": "#%%\n"
    }
   },
   "outputs": [],
   "source": [
    "## Foreign Keys\n",
    "\n",
    "## File_Type\n",
    "fkey_def = em.ForeignKey.define(\n",
    "    [\"File_Type\"], # this is a list to allow for compound foreign keys\n",
    "    \"Vocab\",\n",
    "    \"File_Type_Term\",\n",
    "    [\"ID\"], # this is a list to allow for compound keys\n",
    "    on_update='CASCADE',\n",
    "    on_delete='SET NULL',\n",
    "    constraint_names=[ ['Beta_Cell', \"Mass_Spec_Data_File_Type_FKey\"] ],\n",
    "    comment=None,\n",
    "    acls={},\n",
    "    acl_bindings={},\n",
    "    annotations={},\n",
    ")\n",
    "table = model_root.table('Beta_Cell', 'Mass_Spec_Data')\n",
    "new_column = table.create_fkey(PbcCatalog, fkey_def)\n",
    "\n"
   ]
  },
  {
   "cell_type": "code",
   "execution_count": 17,
   "metadata": {
    "pycharm": {
     "is_executing": false,
     "name": "#%%\n"
    }
   },
   "outputs": [],
   "source": [
    "## Quantification\n",
    "fkey_def = em.ForeignKey.define(\n",
    "    [\"Quantification\"], # this is a list to allow for compound foreign keys\n",
    "    \"Vocab\",\n",
    "    \"Quantification_Term\",\n",
    "    [\"ID\"], # this is a list to allow for compound keys\n",
    "    on_update='CASCADE',\n",
    "    on_delete='SET NULL',\n",
    "    constraint_names=[ ['Beta_Cell', \"Experiment_Quantification_FKey\"] ],\n",
    "    comment=None,\n",
    "    acls={},\n",
    "    acl_bindings={},\n",
    "    annotations={},\n",
    ")\n",
    "table = model_root.table('Beta_Cell', 'Experiment')\n",
    "new_column = table.create_fkey(PbcCatalog, fkey_def)\n"
   ]
  },
  {
   "cell_type": "code",
   "execution_count": 18,
   "metadata": {
    "pycharm": {
     "is_executing": false,
     "name": "#%%\n"
    }
   },
   "outputs": [],
   "source": [
    "## Modification\n",
    "fkey_def = em.ForeignKey.define(\n",
    "    [\"Modification\"], # this is a list to allow for compound foreign keys\n",
    "    \"Vocab\",\n",
    "    \"Modification_Term\",\n",
    "    [\"ID\"], # this is a list to allow for compound keys\n",
    "    on_update='CASCADE',\n",
    "    on_delete='SET NULL',\n",
    "    constraint_names=[ ['Beta_Cell', \"Experiment_Modification_FKey\"] ],\n",
    "    comment=None,\n",
    "    acls={},\n",
    "    acl_bindings={},\n",
    "    annotations={},\n",
    ")\n",
    "table = model_root.table('Beta_Cell', 'Experiment')\n",
    "new_column = table.create_fkey(PbcCatalog, fkey_def)\n",
    "\n"
   ]
  },
  {
   "cell_type": "code",
   "execution_count": 19,
   "metadata": {
    "pycharm": {
     "is_executing": false,
     "name": "#%%\n"
    }
   },
   "outputs": [],
   "source": [
    "## Instrument\n",
    "fkey_def = em.ForeignKey.define(\n",
    "    [\"Instrument\"], # this is a list to allow for compound foreign keys\n",
    "    \"Vocab\",\n",
    "    \"Instrument_Term\",\n",
    "    [\"ID\"], # this is a list to allow for compound keys\n",
    "    on_update='CASCADE',\n",
    "    on_delete='SET NULL',\n",
    "    constraint_names=[ ['Beta_Cell', \"Experiment_Instrument_FKey\"] ],\n",
    "    comment=None,\n",
    "    acls={},\n",
    "    acl_bindings={},\n",
    "    annotations={},\n",
    ")\n",
    "table = model_root.table('Beta_Cell', 'Experiment')\n",
    "new_column = table.create_fkey(PbcCatalog, fkey_def)"
   ]
  },
  {
   "cell_type": "code",
   "execution_count": 20,
   "metadata": {
    "pycharm": {
     "is_executing": false,
     "name": "#%%\n"
    }
   },
   "outputs": [],
   "source": [
    "## Submission_Type\n",
    "fkey_def = em.ForeignKey.define(\n",
    "    [\"Submission_Type\"], # this is a list to allow for compound foreign keys\n",
    "    \"Vocab\",\n",
    "    \"Submission_Type_Term\",\n",
    "    [\"ID\"], # this is a list to allow for compound keys\n",
    "    on_update='CASCADE',\n",
    "    on_delete='SET NULL',\n",
    "    constraint_names=[ ['Beta_Cell', \"Pride_Project_Submission_Type_FKey\"] ],\n",
    "    comment=None,\n",
    "    acls={},\n",
    "    acl_bindings={},\n",
    "    annotations={},\n",
    ")\n",
    "table = model_root.table('Beta_Cell', 'Pride_Project')\n",
    "new_column = table.create_fkey(PbcCatalog, fkey_def)\n"
   ]
  }
 ],
 "metadata": {
  "kernelspec": {
   "display_name": "Python 3",
   "language": "python",
   "name": "python3"
  },
  "language_info": {
   "codemirror_mode": {
    "name": "ipython",
    "version": 3
   },
   "file_extension": ".py",
   "mimetype": "text/x-python",
   "name": "python",
   "nbconvert_exporter": "python",
   "pygments_lexer": "ipython3",
   "version": "3.7.4"
  },
  "pycharm": {
   "stem_cell": {
    "cell_type": "raw",
    "metadata": {
     "collapsed": false
    },
    "source": []
   }
  }
 },
 "nbformat": 4,
 "nbformat_minor": 1
}
